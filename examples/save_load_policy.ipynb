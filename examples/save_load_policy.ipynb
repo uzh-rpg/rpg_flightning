{
 "cells": [
  {
   "cell_type": "code",
   "execution_count": null,
   "id": "4b058deb-1eee-4a2f-8023-1d2c65f78615",
   "metadata": {},
   "outputs": [],
   "source": [
    "import jax\n",
    "import optax\n",
    "from flax.training.train_state import TrainState\n",
    "from orbax.checkpoint import PyTreeCheckpointer\n",
    "\n",
    "from flightning import FLIGHTNING_PATH\n",
    "from flightning.modules import MLP"
   ]
  },
  {
   "cell_type": "markdown",
   "id": "f6c267b8-c2a1-40f8-bd27-0449b7fff835",
   "metadata": {},
   "source": [
    "# How to Save and Load JAX Policies\n",
    "\n",
    "Saving policies or their parameters works easily using the `orbax` package. The idea is that many container objects like lists, tuples, dictionaries (paramaters are dictionaries containing arrays), and other custom classes are PyTrees. [More about Pytrees.](https://jax.readthedocs.io/en/latest/pytrees.html) We simply create a checkpointer object that can save and load pytrees.\n",
    "\n",
    "## Save Parameters"
   ]
  },
  {
   "cell_type": "code",
   "execution_count": null,
   "id": "6c370180-a0b8-4bab-b7fb-4b7e48955a7d",
   "metadata": {},
   "outputs": [],
   "source": [
    "mlp = MLP([2, 3, 1])\n",
    "params = mlp.initialize(jax.random.key(0))\n",
    "\n",
    "train_state = TrainState.create(apply_fn=mlp.apply, params=params,\n",
    "                                tx=optax.adam(1e-3))\n",
    "\n",
    "# use absolute path\n",
    "path = FLIGHTNING_PATH + \"/../examples/saved_params\"\n",
    "\n",
    "ckptr = PyTreeCheckpointer()\n",
    "ckptr.save(path, params)"
   ]
  },
  {
   "cell_type": "markdown",
   "id": "a04a5719-6efb-4737-a43d-d48ae3a9314d",
   "metadata": {},
   "source": [
    "You can check the directory. This method created a new folder `saved_params` that contains all data and metadata associated with the parameters."
   ]
  },
  {
   "cell_type": "markdown",
   "id": "89abdc44-4b3e-48a1-a059-170dad58b866",
   "metadata": {},
   "source": [
    "## Load Parameters"
   ]
  },
  {
   "cell_type": "code",
   "execution_count": null,
   "id": "0eab9087-fc48-4081-ace2-183065c2539d",
   "metadata": {},
   "outputs": [],
   "source": [
    "params_loaded = ckptr.restore(path)\n",
    "\n",
    "print(\"Original params\")\n",
    "print(params)\n",
    "print()\n",
    "print(\"Loaded params\")\n",
    "print(params_loaded)"
   ]
  },
  {
   "cell_type": "markdown",
   "id": "1b0f7b61-fdb6-4e8a-8952-7a17f4b7dd9f",
   "metadata": {},
   "source": [
    "That was easy. The parameters are all there.\n",
    "\n",
    "## Save and Load Trainstates\n",
    "\n",
    "Saving works the same way but when loading, we need to provide the structure to create the right object."
   ]
  },
  {
   "cell_type": "code",
   "execution_count": null,
   "id": "6e752f8d-d55c-4934-b4c5-fb85c76d6c7c",
   "metadata": {},
   "outputs": [],
   "source": [
    "path = FLIGHTNING_PATH + \"/../examples/saved_trainstate\"\n",
    "\n",
    "ckptr.save(path, train_state)\n",
    "\n",
    "trainstate_loaded = ckptr.restore(path)\n",
    "\n",
    "print(train_state)\n",
    "print()\n",
    "print(trainstate_loaded)"
   ]
  },
  {
   "cell_type": "markdown",
   "id": "40b95c65-be51-4eb2-8b8b-afe76924bdc6",
   "metadata": {},
   "source": [
    "We observe that while the original trainstate was an object of class TrainState. However, the loaded one is just a dictionary. To overcome this, we need to provide an object of the correct type and structure."
   ]
  },
  {
   "cell_type": "code",
   "execution_count": null,
   "id": "6935722f-f474-4e4d-bf07-ec5e5e5e8d3d",
   "metadata": {},
   "outputs": [],
   "source": [
    "mlp_obj = MLP([2, 3, 1])\n",
    "params_obj = mlp.initialize(jax.random.key(42))\n",
    "\n",
    "train_state_obj = TrainState.create(apply_fn=mlp.apply, params=params,\n",
    "                                tx=optax.adam(1e-3))\n",
    "\n",
    "trainstate_loaded = ckptr.restore(path, train_state_obj)\n",
    "\n",
    "print(trainstate_loaded)"
   ]
  }
 ],
 "metadata": {
  "kernelspec": {
   "display_name": "Python 3 (ipykernel)",
   "language": "python",
   "name": "python3"
  },
  "language_info": {
   "codemirror_mode": {
    "name": "ipython",
    "version": 3
   },
   "file_extension": ".py",
   "mimetype": "text/x-python",
   "name": "python",
   "nbconvert_exporter": "python",
   "pygments_lexer": "ipython3",
   "version": "3.12.6"
  }
 },
 "nbformat": 4,
 "nbformat_minor": 5
}
