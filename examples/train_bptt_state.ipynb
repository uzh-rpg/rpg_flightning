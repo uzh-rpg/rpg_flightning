{
 "cells": [
  {
   "cell_type": "code",
   "execution_count": null,
   "id": "e7dc7e09-24f3-40f2-82fd-0b57185047b8",
   "metadata": {
    "ExecuteTime": {
     "end_time": "2024-09-25T13:26:04.226945Z",
     "start_time": "2024-09-25T13:26:02.948729Z"
    }
   },
   "outputs": [],
   "source": [
    "import time\n",
    "\n",
    "import jax\n",
    "import jax.numpy as jnp\n",
    "import matplotlib.pyplot as plt\n",
    "import optax\n",
    "from flax.training.train_state import TrainState\n",
    "\n",
    "from flightning import FLIGHTNING_PATH\n",
    "from flightning.algos import bptt\n",
    "from flightning.envs import HoveringStateEnv, rollout\n",
    "from flightning.envs.wrappers import MinMaxObservationWrapper\n",
    "from flightning.modules import MLP\n",
    "\n",
    "%matplotlib inline"
   ]
  },
  {
   "cell_type": "markdown",
   "id": "0cdd47b5-b634-4cf4-b315-fe54e168bfd4",
   "metadata": {},
   "source": [
    "# Training a State-based Quadrotor Policy With BPTT\n",
    "\n",
    "## Seed it"
   ]
  },
  {
   "cell_type": "code",
   "execution_count": null,
   "id": "40e1aeea-dfdc-4455-96d7-292734313220",
   "metadata": {
    "ExecuteTime": {
     "end_time": "2024-09-25T13:26:07.315409Z",
     "start_time": "2024-09-25T13:26:07.153793Z"
    }
   },
   "outputs": [],
   "source": [
    "seed = 0\n",
    "key = jax.random.key(seed)\n",
    "key_init, key_bptt = jax.random.split(key, 2)"
   ]
  },
  {
   "cell_type": "markdown",
   "id": "a17b0528-1c37-43c4-a709-bcb3a50c5f65",
   "metadata": {},
   "source": [
    "## Setup the Training Environment"
   ]
  },
  {
   "cell_type": "code",
   "execution_count": null,
   "id": "0d270ccd-7371-4e03-9fe9-83b9050632d1",
   "metadata": {},
   "outputs": [],
   "source": [
    "drone_path = FLIGHTNING_PATH + \"/objects/quadrotor_files/example_quad.yaml\"\n",
    "dt = 0.02\n",
    "\n",
    "env = HoveringStateEnv(\n",
    "    max_steps_in_episode=3 * int(1 / dt),\n",
    "    dt=dt,\n",
    "    delay=0.03,\n",
    "    velocity_std=0.1,\n",
    "    yaw_scale=1.0,\n",
    "    pitch_roll_scale=0.1,\n",
    "    omega_std=0.1,\n",
    "    drone_path=drone_path,\n",
    "    reward_sharpness=5.0,\n",
    "    action_penalty_weight=0.5,\n",
    ")\n",
    "env = MinMaxObservationWrapper(env)\n",
    "\n",
    "# get dims\n",
    "action_dim = env.action_space.shape[0]\n",
    "obs_dim = env.observation_space.shape[0]"
   ]
  },
  {
   "cell_type": "markdown",
   "id": "60fef056-7926-4e2d-b229-07ca884cb624",
   "metadata": {},
   "source": [
    "## Define the Policy Network"
   ]
  },
  {
   "cell_type": "code",
   "execution_count": null,
   "id": "28f65930-0a15-459a-943c-e4e13498c613",
   "metadata": {},
   "outputs": [],
   "source": [
    "policy_net = MLP(\n",
    "    [obs_dim, 512, 512, action_dim],\n",
    "    initial_scale=0.01,\n",
    "    action_bias=env.hovering_action,\n",
    ")\n",
    "policy_params = policy_net.initialize(key_init)"
   ]
  },
  {
   "cell_type": "markdown",
   "id": "aa1c2c03-9fce-461a-8aca-ba24f78b9fea",
   "metadata": {},
   "source": [
    "## Setup the Optimizer and Train State"
   ]
  },
  {
   "cell_type": "code",
   "execution_count": null,
   "id": "b5a76f4d-f807-414b-989f-2f98653eeb16",
   "metadata": {},
   "outputs": [],
   "source": [
    "N = 1000\n",
    "scheduler = optax.cosine_decay_schedule(1e-2, N)\n",
    "tx = optax.adam(scheduler)\n",
    "train_state = TrainState.create(\n",
    "    apply_fn=policy_net.apply, params=policy_params, tx=tx\n",
    ")"
   ]
  },
  {
   "cell_type": "markdown",
   "id": "4bd4fc70-8084-4bcb-a43d-524edab8fbf9",
   "metadata": {},
   "source": [
    "## Initial Rollout"
   ]
  },
  {
   "cell_type": "code",
   "execution_count": null,
   "id": "f927d83c-922a-4212-b355-164472233801",
   "metadata": {},
   "outputs": [],
   "source": [
    "def get_rollouts(env, policy, num_rollouts, key):\n",
    "    parallel_rollout = jax.vmap(rollout, in_axes=(None, 0, None))\n",
    "    rollout_keys = jax.random.split(key, num_rollouts)\n",
    "    transitions = parallel_rollout(env, rollout_keys, policy)\n",
    "    return transitions\n",
    "\n",
    "\n",
    "def policy(obs, key):\n",
    "    return train_state.apply_fn(train_state.params, obs)\n",
    "\n",
    "transitions = get_rollouts(env, policy, 10, jax.random.key(3))"
   ]
  },
  {
   "cell_type": "code",
   "execution_count": null,
   "id": "3fda948c-64ef-4734-a198-f60794967575",
   "metadata": {},
   "outputs": [],
   "source": [
    "env.plot_trajectories(transitions)"
   ]
  },
  {
   "cell_type": "markdown",
   "id": "51a732f8-497a-482d-adb3-d1019bb7578b",
   "metadata": {},
   "source": [
    "## Train the Policy Using BPTT"
   ]
  },
  {
   "cell_type": "code",
   "execution_count": null,
   "id": "7fd60e0a-d2ac-4e78-97dd-1a9fe8fcb042",
   "metadata": {},
   "outputs": [],
   "source": [
    "time_start = time.time()\n",
    "res_dict = bptt.train(\n",
    "    env,\n",
    "    train_state,\n",
    "    num_epochs=100,\n",
    "    num_steps_per_epoch=env.max_steps_in_episode,\n",
    "    num_envs=100,\n",
    "    key=key_bptt,\n",
    ")\n",
    "time_train = time.time() - time_start\n",
    "print(f\"Training time: {time_train}\")"
   ]
  },
  {
   "cell_type": "code",
   "execution_count": null,
   "id": "d6073696-37d1-4b4a-9737-7eff1e9b875f",
   "metadata": {},
   "outputs": [],
   "source": [
    "rewards = -res_dict[\"metrics\"]\n",
    "plt.plot(rewards)\n",
    "plt.title(f\"Final Reward: {rewards[-1]}, Training Time: {time_train}\")\n",
    "plt.xlabel(\"Iteration\")\n",
    "plt.ylabel(\"Return\")\n",
    "plt.show()"
   ]
  },
  {
   "cell_type": "markdown",
   "id": "9a65af08-a64e-4587-af6d-0623c9ba3e72",
   "metadata": {},
   "source": [
    "## Evaluate the Trained Policy"
   ]
  },
  {
   "cell_type": "code",
   "execution_count": null,
   "id": "baa35648-f3b8-44bf-9f39-981f2557c98f",
   "metadata": {},
   "outputs": [],
   "source": [
    "new_train_state = res_dict[\"runner_state\"].train_state\n",
    "\n",
    "def policy_trained(obs, key):\n",
    "    return train_state.apply_fn(new_train_state.params, obs)"
   ]
  },
  {
   "cell_type": "code",
   "execution_count": null,
   "id": "a70ed5bd-a316-435e-8759-21d71b359415",
   "metadata": {},
   "outputs": [],
   "source": [
    "env_eval = HoveringStateEnv(\n",
    "    max_steps_in_episode=10 * int(1 / dt),\n",
    "    dt=dt,\n",
    "    delay=0.03,\n",
    "    velocity_std=0.1,\n",
    "    yaw_scale=1.0,\n",
    "    pitch_roll_scale=0.1,\n",
    "    omega_std=0.1,\n",
    "    drone_path=drone_path,\n",
    ")\n",
    "env_eval = MinMaxObservationWrapper(env_eval)\n",
    "transitions_eval = get_rollouts(env_eval, policy_trained, 20, jax.random.key(3))"
   ]
  },
  {
   "cell_type": "code",
   "execution_count": null,
   "id": "7bbb46f8-274e-42da-a680-315881a04ec4",
   "metadata": {},
   "outputs": [],
   "source": [
    "env_eval.plot_trajectories(transitions_eval)"
   ]
  }
 ],
 "metadata": {
  "kernelspec": {
   "display_name": "Python 3 (ipykernel)",
   "language": "python",
   "name": "python3"
  },
  "language_info": {
   "codemirror_mode": {
    "name": "ipython",
    "version": 3
   },
   "file_extension": ".py",
   "mimetype": "text/x-python",
   "name": "python",
   "nbconvert_exporter": "python",
   "pygments_lexer": "ipython3",
   "version": "3.12.6"
  }
 },
 "nbformat": 4,
 "nbformat_minor": 5
}
